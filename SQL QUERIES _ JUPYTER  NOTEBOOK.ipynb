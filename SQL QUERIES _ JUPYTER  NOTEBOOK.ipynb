{
 "cells": [
  {
   "cell_type": "code",
   "execution_count": 1,
   "metadata": {},
   "outputs": [],
   "source": [
    "# SQL is a declarative programing language ,our focus is what we want we do not care about how to get it \n",
    "# SQL is a DATABASE domain specific language \n",
    "# SQL divide into 3 parts DML,DDl,DCL\n",
    "# MySQl is a relational database\n",
    "# It contains data in tables\n",
    "# Each table related to one each other \n",
    "\n",
    "# query the sql commands in jupyter notebook by connecting mysql server using mysql connector \n",
    "import mysql.connector\n",
    "import pandas as pd"
   ]
  },
  {
   "cell_type": "code",
   "execution_count": 2,
   "metadata": {},
   "outputs": [],
   "source": [
    "connection=mysql.connector.connect(host='localhost'\n",
    "                                  ,user='root'\n",
    "                                  ,passwd='jani@123'\n",
    "                                  ,db='imdb')"
   ]
  },
  {
   "cell_type": "code",
   "execution_count": 3,
   "metadata": {},
   "outputs": [
    {
     "data": {
      "text/plain": [
       "<mysql.connector.connection.MySQLConnection at 0x29ccaf1ddd8>"
      ]
     },
     "execution_count": 3,
     "metadata": {},
     "output_type": "execute_result"
    }
   ],
   "source": [
    "connection"
   ]
  },
  {
   "cell_type": "code",
   "execution_count": 4,
   "metadata": {},
   "outputs": [
    {
     "data": {
      "text/html": [
       "<div>\n",
       "<style scoped>\n",
       "    .dataframe tbody tr th:only-of-type {\n",
       "        vertical-align: middle;\n",
       "    }\n",
       "\n",
       "    .dataframe tbody tr th {\n",
       "        vertical-align: top;\n",
       "    }\n",
       "\n",
       "    .dataframe thead th {\n",
       "        text-align: right;\n",
       "    }\n",
       "</style>\n",
       "<table border=\"1\" class=\"dataframe\">\n",
       "  <thead>\n",
       "    <tr style=\"text-align: right;\">\n",
       "      <th></th>\n",
       "      <th>Tables_in_imdb</th>\n",
       "    </tr>\n",
       "  </thead>\n",
       "  <tbody>\n",
       "    <tr>\n",
       "      <th>0</th>\n",
       "      <td>actors</td>\n",
       "    </tr>\n",
       "    <tr>\n",
       "      <th>1</th>\n",
       "      <td>directors</td>\n",
       "    </tr>\n",
       "    <tr>\n",
       "      <th>2</th>\n",
       "      <td>directors_genres</td>\n",
       "    </tr>\n",
       "    <tr>\n",
       "      <th>3</th>\n",
       "      <td>movies</td>\n",
       "    </tr>\n",
       "    <tr>\n",
       "      <th>4</th>\n",
       "      <td>movies_directors</td>\n",
       "    </tr>\n",
       "    <tr>\n",
       "      <th>5</th>\n",
       "      <td>movies_genres</td>\n",
       "    </tr>\n",
       "    <tr>\n",
       "      <th>6</th>\n",
       "      <td>roles</td>\n",
       "    </tr>\n",
       "  </tbody>\n",
       "</table>\n",
       "</div>"
      ],
      "text/plain": [
       "     Tables_in_imdb\n",
       "0            actors\n",
       "1         directors\n",
       "2  directors_genres\n",
       "3            movies\n",
       "4  movies_directors\n",
       "5     movies_genres\n",
       "6             roles"
      ]
     },
     "execution_count": 4,
     "metadata": {},
     "output_type": "execute_result"
    }
   ],
   "source": [
    "# running the sql commands using pndas\n",
    "# pd.read_sql_query(query,connection)\n",
    "\n",
    "# To know the what are tables in data base\n",
    "# SHOW TABLES\n",
    "\n",
    "imdb_tables=pd.read_sql_query('SHOW TABLES',connection)\n",
    "imdb_tables"
   ]
  },
  {
   "cell_type": "markdown",
   "metadata": {},
   "source": [
    "with the help of pandas we create dataframe of tables"
   ]
  },
  {
   "cell_type": "markdown",
   "metadata": {},
   "source": [
    "Note : Now we can manipulate this dataframe using pandas\n"
   ]
  },
  {
   "cell_type": "code",
   "execution_count": 5,
   "metadata": {},
   "outputs": [],
   "source": [
    "# If you want to know what are the fields present in each table \n",
    "# DESCRIBE ====> it describes the fields in particulat tables\n",
    "# pd.read_sql_query('DESCRIBE table name ',connection)\n",
    "\n",
    "Fields=pd.read_sql_query('DESCRIBE movies',connection)"
   ]
  },
  {
   "cell_type": "code",
   "execution_count": 6,
   "metadata": {},
   "outputs": [
    {
     "data": {
      "text/html": [
       "<div>\n",
       "<style scoped>\n",
       "    .dataframe tbody tr th:only-of-type {\n",
       "        vertical-align: middle;\n",
       "    }\n",
       "\n",
       "    .dataframe tbody tr th {\n",
       "        vertical-align: top;\n",
       "    }\n",
       "\n",
       "    .dataframe thead th {\n",
       "        text-align: right;\n",
       "    }\n",
       "</style>\n",
       "<table border=\"1\" class=\"dataframe\">\n",
       "  <thead>\n",
       "    <tr style=\"text-align: right;\">\n",
       "      <th></th>\n",
       "      <th>Field</th>\n",
       "      <th>Type</th>\n",
       "      <th>Null</th>\n",
       "      <th>Key</th>\n",
       "      <th>Default</th>\n",
       "      <th>Extra</th>\n",
       "    </tr>\n",
       "  </thead>\n",
       "  <tbody>\n",
       "    <tr>\n",
       "      <th>0</th>\n",
       "      <td>id</td>\n",
       "      <td>int</td>\n",
       "      <td>NO</td>\n",
       "      <td>PRI</td>\n",
       "      <td>0.0</td>\n",
       "      <td></td>\n",
       "    </tr>\n",
       "    <tr>\n",
       "      <th>1</th>\n",
       "      <td>name</td>\n",
       "      <td>varchar(100)</td>\n",
       "      <td>YES</td>\n",
       "      <td>MUL</td>\n",
       "      <td>NaN</td>\n",
       "      <td></td>\n",
       "    </tr>\n",
       "    <tr>\n",
       "      <th>2</th>\n",
       "      <td>year</td>\n",
       "      <td>int</td>\n",
       "      <td>YES</td>\n",
       "      <td></td>\n",
       "      <td>NaN</td>\n",
       "      <td></td>\n",
       "    </tr>\n",
       "    <tr>\n",
       "      <th>3</th>\n",
       "      <td>rankscore</td>\n",
       "      <td>float</td>\n",
       "      <td>YES</td>\n",
       "      <td></td>\n",
       "      <td>NaN</td>\n",
       "      <td></td>\n",
       "    </tr>\n",
       "  </tbody>\n",
       "</table>\n",
       "</div>"
      ],
      "text/plain": [
       "       Field          Type Null  Key  Default Extra\n",
       "0         id           int   NO  PRI      0.0      \n",
       "1       name  varchar(100)  YES  MUL      NaN      \n",
       "2       year           int  YES           NaN      \n",
       "3  rankscore         float  YES           NaN      "
      ]
     },
     "execution_count": 6,
     "metadata": {},
     "output_type": "execute_result"
    }
   ],
   "source": [
    "Fields"
   ]
  },
  {
   "cell_type": "markdown",
   "metadata": {},
   "source": [
    "In the above dataframe we have type that is data type ===> int(interger),varchar(variable charcter string ),float\n",
    "\n",
    "Key:PRI ====> Primary key uniquely identify the rows ,its belong to single table \n",
    "forigen key ====> it may present in other tables also \n",
    "\n",
    "MUL===> Multiple values"
   ]
  },
  {
   "cell_type": "code",
   "execution_count": 7,
   "metadata": {},
   "outputs": [],
   "source": [
    "# If you want list the all  movies in the table then we SELECT() command\n",
    "# SELECT * =====> all coumns in a table \n",
    "\n",
    "Selecting=pd.read_sql_query('SELECT * FROM movies',connection)\n"
   ]
  },
  {
   "cell_type": "code",
   "execution_count": 8,
   "metadata": {},
   "outputs": [
    {
     "name": "stdout",
     "output_type": "stream",
     "text": [
      "            id                                 name  year  rankscore\n",
      "0            0                                  #28  2002        NaN\n",
      "1            1  #7 Train: An Immigrant Journey, The  2000        NaN\n",
      "2            2                                    $  1971        6.4\n",
      "3            3                        $1,000 Reward  1913        NaN\n",
      "4            4                        $1,000 Reward  1915        NaN\n",
      "...        ...                                  ...   ...        ...\n",
      "388264  412316                      \"zem blch krlu\"  1991        NaN\n",
      "388265  412317                             \"rgammk\"  1995        NaN\n",
      "388266  412318                         \"zgnm Leyla\"  2002        NaN\n",
      "388267  412319                          \" Istanbul\"  1983        NaN\n",
      "388268  412320                          \"sterreich\"  1958        NaN\n",
      "\n",
      "[388269 rows x 4 columns]\n"
     ]
    }
   ],
   "source": [
    "print(Selecting)"
   ]
  },
  {
   "cell_type": "code",
   "execution_count": 9,
   "metadata": {},
   "outputs": [],
   "source": [
    "# if you want to only name ,rankscore \n",
    "# SELECT name,rankscore from movies\n",
    "\n",
    "Name_Rankscore=pd.read_sql_query('SELECT name,rankscore FROM movies',connection)\n"
   ]
  },
  {
   "cell_type": "code",
   "execution_count": 10,
   "metadata": {},
   "outputs": [
    {
     "name": "stdout",
     "output_type": "stream",
     "text": [
      "                                       name  rankscore\n",
      "0                                       #28        NaN\n",
      "1       #7 Train: An Immigrant Journey, The        NaN\n",
      "2                                         $        6.4\n",
      "3                             $1,000 Reward        NaN\n",
      "4                             $1,000 Reward        NaN\n",
      "...                                     ...        ...\n",
      "388264                      \"zem blch krlu\"        NaN\n",
      "388265                             \"rgammk\"        NaN\n",
      "388266                         \"zgnm Leyla\"        NaN\n",
      "388267                          \" Istanbul\"        NaN\n",
      "388268                          \"sterreich\"        NaN\n",
      "\n",
      "[388269 rows x 2 columns]\n"
     ]
    }
   ],
   "source": [
    "print(Name_Rankscore)"
   ]
  },
  {
   "cell_type": "markdown",
   "metadata": {},
   "source": [
    "Note: No need to select column in a order which are in the table we can select in any manner"
   ]
  },
  {
   "cell_type": "code",
   "execution_count": 11,
   "metadata": {},
   "outputs": [],
   "source": [
    "# In the above we have 388269 rows if you want only 10 rows then we use LIMIT\n",
    "# LIMIT number\n",
    "\n",
    "Top_rows=pd.read_sql_query('SELECT name,rankscore FROM movies LIMIT 10',connection)\n"
   ]
  },
  {
   "cell_type": "code",
   "execution_count": 12,
   "metadata": {},
   "outputs": [
    {
     "name": "stdout",
     "output_type": "stream",
     "text": [
      "                                  name  rankscore\n",
      "0                                  #28        NaN\n",
      "1  #7 Train: An Immigrant Journey, The        NaN\n",
      "2                                    $        6.4\n",
      "3                        $1,000 Reward        NaN\n",
      "4                        $1,000 Reward        NaN\n",
      "5                        $1,000 Reward        NaN\n",
      "6                      $1,000,000 Duck        5.0\n",
      "7               $1,000,000 Reward, The        NaN\n",
      "8               $10,000 Under a Pillow        NaN\n",
      "9                             $100,000        NaN\n"
     ]
    }
   ],
   "source": [
    "print(Top_rows)"
   ]
  },
  {
   "cell_type": "code",
   "execution_count": 13,
   "metadata": {},
   "outputs": [],
   "source": [
    "# If you want to ignore top 10 rows and want to 10 movies after that\n",
    "\n",
    "Offset_rows=pd.read_sql_query('SELECT name,rankscore FROM movies LIMIT 10 OFFSET 10',connection)"
   ]
  },
  {
   "cell_type": "code",
   "execution_count": 14,
   "metadata": {},
   "outputs": [
    {
     "name": "stdout",
     "output_type": "stream",
     "text": [
      "                     name  rankscore\n",
      "0   $100,000 Pyramid, The        NaN\n",
      "1       $1000 a Touchdown        6.7\n",
      "2      $20,000 Carat, The        NaN\n",
      "3  $21 a Day Once a Month        NaN\n",
      "4        $2500 Bride, The        NaN\n",
      "5                     $30        7.5\n",
      "6                 $30,000        NaN\n",
      "7          $300 y tickets        NaN\n",
      "8                 $40,000        9.6\n",
      "9           $5,000 Reward        NaN\n"
     ]
    }
   ],
   "source": [
    "print(Offset_rows)"
   ]
  },
  {
   "cell_type": "code",
   "execution_count": 15,
   "metadata": {},
   "outputs": [],
   "source": [
    "Offset_rows1=pd.read_sql_query('SELECT name,rankscore FROM movies LIMIT 10 OFFSET 20',connection)"
   ]
  },
  {
   "cell_type": "code",
   "execution_count": 16,
   "metadata": {},
   "outputs": [
    {
     "name": "stdout",
     "output_type": "stream",
     "text": [
      "                                  name  rankscore\n",
      "0  $5,000,000 Counterfeiting Plot, The        NaN\n",
      "1                            $5.15/Hr.        NaN\n",
      "2             $5.20 an Hour Dream, The        NaN\n",
      "3               $50,000 Challenge, The        NaN\n",
      "4             $50,000 Climax Show, The        2.6\n",
      "5             $50,000 Jewel Theft, The        NaN\n",
      "6                       $50,000 Reward        NaN\n",
      "7                     $500 Reward, The        NaN\n",
      "8                      $500,000 Reward        NaN\n",
      "9                                $pent        4.3\n"
     ]
    }
   ],
   "source": [
    "print(Offset_rows1)"
   ]
  },
  {
   "cell_type": "code",
   "execution_count": 17,
   "metadata": {},
   "outputs": [],
   "source": [
    "# If you want movies which are high rankscore in decending order we use ORDER BY\n",
    "\n",
    "# SELECT name,rankscore FROM movies ORDER BY rankscore DESC LIMIT 10\n",
    "\n",
    "High_rankscore= pd.read_sql_query('SELECT name,rankscore FROM movies ORDER BY rankscore DESC LIMIT 10',connection)\n"
   ]
  },
  {
   "cell_type": "code",
   "execution_count": 18,
   "metadata": {},
   "outputs": [
    {
     "name": "stdout",
     "output_type": "stream",
     "text": [
      "                                      name  rankscore\n",
      "0  Atunci i-am condamnat pe toti la moarte        9.9\n",
      "1                       Dawn of the Friend        9.9\n",
      "2                        Distinto amanecer        9.9\n",
      "3                        Duminica la ora 6        9.9\n",
      "4                    Complex Sessions, The        9.9\n",
      "5                                 Blow Job        9.9\n",
      "6                                Duck Soup        9.9\n",
      "7                      Devil's Circus, The        9.9\n",
      "8                            Clearing, The        9.9\n",
      "9                                    Dosti        9.9\n"
     ]
    }
   ],
   "source": [
    "print(High_rankscore)"
   ]
  },
  {
   "cell_type": "code",
   "execution_count": 19,
   "metadata": {},
   "outputs": [],
   "source": [
    "Movies_genre=pd.read_sql_query('SELECT genre FROM movies_genres',connection)\n"
   ]
  },
  {
   "cell_type": "code",
   "execution_count": 20,
   "metadata": {},
   "outputs": [
    {
     "name": "stdout",
     "output_type": "stream",
     "text": [
      "              genre\n",
      "0       Documentary\n",
      "1             Short\n",
      "2            Comedy\n",
      "3             Crime\n",
      "4           Western\n",
      "...             ...\n",
      "395114    Adventure\n",
      "395115        Drama\n",
      "395116       Comedy\n",
      "395117        Drama\n",
      "395118       Comedy\n",
      "\n",
      "[395119 rows x 1 columns]\n"
     ]
    }
   ],
   "source": [
    "print(Movies_genre)"
   ]
  },
  {
   "cell_type": "code",
   "execution_count": 21,
   "metadata": {},
   "outputs": [],
   "source": [
    "# in the above we have comedy ,drama mulltiple times \n",
    "# if we want distinct(unique) genere we use DISTINCT\n",
    "\n",
    "Distinct_genre=pd.read_sql_query('SELECT DISTINCT genre FROM movies_genres',connection)"
   ]
  },
  {
   "cell_type": "code",
   "execution_count": 22,
   "metadata": {},
   "outputs": [
    {
     "name": "stdout",
     "output_type": "stream",
     "text": [
      "          genre\n",
      "0   Documentary\n",
      "1         Short\n",
      "2        Comedy\n",
      "3         Crime\n",
      "4       Western\n",
      "5        Family\n",
      "6     Animation\n",
      "7         Drama\n",
      "8       Romance\n",
      "9       Mystery\n",
      "10     Thriller\n",
      "11        Adult\n",
      "12        Music\n",
      "13       Action\n",
      "14      Fantasy\n",
      "15       Sci-Fi\n",
      "16       Horror\n",
      "17          War\n",
      "18      Musical\n",
      "19    Adventure\n",
      "20    Film-Noir\n"
     ]
    }
   ],
   "source": [
    "print(Distinct_genre)"
   ]
  },
  {
   "cell_type": "markdown",
   "metadata": {},
   "source": [
    "Using Distinct we get unique genres in the movies_genres table"
   ]
  },
  {
   "cell_type": "code",
   "execution_count": 23,
   "metadata": {},
   "outputs": [],
   "source": [
    "Distinct_names=pd.read_sql_query('SELECT DISTINCT first_name FROM directors ',connection)"
   ]
  },
  {
   "cell_type": "code",
   "execution_count": 24,
   "metadata": {},
   "outputs": [
    {
     "name": "stdout",
     "output_type": "stream",
     "text": [
      "           first_name\n",
      "0             'Chico'\n",
      "1      'Philthy' Phil\n",
      "2          'Weird Al'\n",
      "3                  A.\n",
      "4              A. (I)\n",
      "...               ...\n",
      "23268          Øyvind\n",
      "23269        Þór Elís\n",
      "23270       Þorsteinn\n",
      "23271       Þorvaldur\n",
      "23272          Þráinn\n",
      "\n",
      "[23273 rows x 1 columns]\n"
     ]
    }
   ],
   "source": [
    "print(Distinct_names)"
   ]
  },
  {
   "cell_type": "code",
   "execution_count": 25,
   "metadata": {},
   "outputs": [],
   "source": [
    "Distinct_names=pd.read_sql_query('SELECT DISTINCT first_name FROM directors ORDER BY first_name',connection)"
   ]
  },
  {
   "cell_type": "code",
   "execution_count": 26,
   "metadata": {},
   "outputs": [
    {
     "name": "stdout",
     "output_type": "stream",
     "text": [
      "           first_name\n",
      "0             'Chico'\n",
      "1      'Philthy' Phil\n",
      "2          'Weird Al'\n",
      "3                  A.\n",
      "4              A. (I)\n",
      "...               ...\n",
      "23268          Øyvind\n",
      "23269        Þór Elís\n",
      "23270       Þorsteinn\n",
      "23271       Þorvaldur\n",
      "23272          Þráinn\n",
      "\n",
      "[23273 rows x 1 columns]\n"
     ]
    }
   ],
   "source": [
    "print(Distinct_names)"
   ]
  },
  {
   "cell_type": "code",
   "execution_count": 27,
   "metadata": {},
   "outputs": [],
   "source": [
    "# using WHERE \n",
    "# if you want movies with rankscore>9\n",
    "\n",
    "Rankscore=pd.read_sql_query('SELECT name,rankscore FROM movies WHERE rankscore>9 ORDER BY rankscore DESC LIMIT 10',connection)"
   ]
  },
  {
   "cell_type": "code",
   "execution_count": 28,
   "metadata": {},
   "outputs": [
    {
     "name": "stdout",
     "output_type": "stream",
     "text": [
      "                                      name  rankscore\n",
      "0                                 Blow Job        9.9\n",
      "1                        Duminica la ora 6        9.9\n",
      "2                    Complex Sessions, The        9.9\n",
      "3                      Devil's Circus, The        9.9\n",
      "4                                Duck Soup        9.9\n",
      "5  Atunci i-am condamnat pe toti la moarte        9.9\n",
      "6                                    Dosti        9.9\n",
      "7                       Dawn of the Friend        9.9\n",
      "8                        Distinto amanecer        9.9\n",
      "9                            Clearing, The        9.9\n"
     ]
    }
   ],
   "source": [
    "print(Rankscore)"
   ]
  },
  {
   "cell_type": "code",
   "execution_count": 29,
   "metadata": {},
   "outputs": [],
   "source": [
    "# get the particular genre movie using comparission operator\n",
    "# =,>=,<=,!=\n",
    "\n",
    "Comedy_movies=pd.read_sql_query('SELECT * FROM movies_genres WHERE genre=\"comedy\"',connection)"
   ]
  },
  {
   "cell_type": "code",
   "execution_count": 30,
   "metadata": {},
   "outputs": [
    {
     "name": "stdout",
     "output_type": "stream",
     "text": [
      "       movie_id   genre\n",
      "0             2  Comedy\n",
      "1             6  Comedy\n",
      "2             8  Comedy\n",
      "3            11  Comedy\n",
      "4            15  Comedy\n",
      "...         ...     ...\n",
      "56420    378583  Comedy\n",
      "56421    378594  Comedy\n",
      "56422    378597  Comedy\n",
      "56423    378613  Comedy\n",
      "56424    378614  Comedy\n",
      "\n",
      "[56425 rows x 2 columns]\n"
     ]
    }
   ],
   "source": [
    "print(Comedy_movies)"
   ]
  },
  {
   "cell_type": "code",
   "execution_count": 31,
   "metadata": {},
   "outputs": [],
   "source": [
    "# If you want null values in column we use IS NULL\n",
    "# IS NULL\n",
    "\n",
    "Without_rank=pd.read_sql_query('SELECT name,rankscore FROM movies WHERE rankscore IS NULL LIMIT 20',connection)"
   ]
  },
  {
   "cell_type": "code",
   "execution_count": 32,
   "metadata": {},
   "outputs": [
    {
     "name": "stdout",
     "output_type": "stream",
     "text": [
      "                                   name rankscore\n",
      "0                                   #28      None\n",
      "1   #7 Train: An Immigrant Journey, The      None\n",
      "2                         $1,000 Reward      None\n",
      "3                         $1,000 Reward      None\n",
      "4                         $1,000 Reward      None\n",
      "5                $1,000,000 Reward, The      None\n",
      "6                $10,000 Under a Pillow      None\n",
      "7                              $100,000      None\n",
      "8                 $100,000 Pyramid, The      None\n",
      "9                    $20,000 Carat, The      None\n",
      "10               $21 a Day Once a Month      None\n",
      "11                     $2500 Bride, The      None\n",
      "12                              $30,000      None\n",
      "13                       $300 y tickets      None\n",
      "14                        $5,000 Reward      None\n",
      "15  $5,000,000 Counterfeiting Plot, The      None\n",
      "16                            $5.15/Hr.      None\n",
      "17             $5.20 an Hour Dream, The      None\n",
      "18               $50,000 Challenge, The      None\n",
      "19             $50,000 Jewel Theft, The      None\n"
     ]
    }
   ],
   "source": [
    "print(Without_rank)"
   ]
  },
  {
   "cell_type": "markdown",
   "metadata": {},
   "source": [
    "Note = rankscore=NULL doesn't work so we use IS NULL "
   ]
  },
  {
   "cell_type": "code",
   "execution_count": 33,
   "metadata": {},
   "outputs": [],
   "source": [
    "# using logical operators \n",
    "# AND,OR,NOT,ALL,ANY,BETWEEN,EXISTS,IN,LIKE,SOME\n",
    "\n",
    "Latest_hitmovies=pd.read_sql_query('SELECT name,year,rankscore FROM movies WHERE rankscore>9 AND year>2001',connection)"
   ]
  },
  {
   "cell_type": "code",
   "execution_count": 34,
   "metadata": {},
   "outputs": [
    {
     "name": "stdout",
     "output_type": "stream",
     "text": [
      "                  name  year  rankscore\n",
      "0         12 (2003/II)  2003        9.8\n",
      "1    14 Million Dreams  2003        9.5\n",
      "2                  2+1  2004        9.2\n",
      "3            2wks, 1yr  2002        9.4\n",
      "4          5 Card Stud  2002        9.4\n",
      "..                 ...   ...        ...\n",
      "207         White Bits  2002        9.2\n",
      "208      White Like Me  2004        9.4\n",
      "209            Yes and  2004        9.3\n",
      "210     Ziel:gerichtet  2003        9.6\n",
      "211              Zonad  2003        9.4\n",
      "\n",
      "[212 rows x 3 columns]\n"
     ]
    }
   ],
   "source": [
    "print(Latest_hitmovies)"
   ]
  },
  {
   "cell_type": "code",
   "execution_count": 35,
   "metadata": {},
   "outputs": [],
   "source": [
    "Latest_hitmovies=pd.read_sql_query('SELECT name,year,rankscore FROM movies WHERE rankscore>9 OR year>2001',connection)"
   ]
  },
  {
   "cell_type": "code",
   "execution_count": 36,
   "metadata": {
    "scrolled": true
   },
   "outputs": [
    {
     "name": "stdout",
     "output_type": "stream",
     "text": [
      "                 name  year  rankscore\n",
      "0                 #28  2002        NaN\n",
      "1      $300 y tickets  2002        NaN\n",
      "2             $40,000  1996        9.6\n",
      "3           $5.15/Hr.  2004        NaN\n",
      "4             $windle  2002        5.4\n",
      "...               ...   ...        ...\n",
      "35168  \" i havet, En\"  2003        NaN\n",
      "35169    \"ppna dagar\"  2003        NaN\n",
      "35170          \"rnen\"  2004        NaN\n",
      "35171    \"pa el nimo\"  2002        NaN\n",
      "35172    \"zgnm Leyla\"  2002        NaN\n",
      "\n",
      "[35173 rows x 3 columns]\n"
     ]
    }
   ],
   "source": [
    "print(Latest_hitmovies)"
   ]
  },
  {
   "cell_type": "code",
   "execution_count": 37,
   "metadata": {},
   "outputs": [],
   "source": [
    "# if you want movies in between 1999 and 2000\n",
    "# BETWEEN upper AND lower\n",
    "\n",
    "Between=pd.read_sql_query('SELECT name,year FROM movies WHERE year BETWEEN 2000 AND 2003',connection)"
   ]
  },
  {
   "cell_type": "code",
   "execution_count": 38,
   "metadata": {},
   "outputs": [
    {
     "name": "stdout",
     "output_type": "stream",
     "text": [
      "                                      name  year\n",
      "0                                      #28  2002\n",
      "1      #7 Train: An Immigrant Journey, The  2000\n",
      "2                    $100,000 Pyramid, The  2001\n",
      "3                           $300 y tickets  2002\n",
      "4                                    $pent  2000\n",
      "...                                    ...   ...\n",
      "47274             \"le de la tentation, L'\"  2002\n",
      "47275                       \" i havet, En\"  2003\n",
      "47276                         \"ppna dagar\"  2003\n",
      "47277                         \"pa el nimo\"  2002\n",
      "47278                         \"zgnm Leyla\"  2002\n",
      "\n",
      "[47279 rows x 2 columns]\n"
     ]
    }
   ],
   "source": [
    "print(Between)"
   ]
  },
  {
   "cell_type": "markdown",
   "metadata": {},
   "source": [
    "Note: While using between upper and lower limits  upper value always less than lowervalue"
   ]
  },
  {
   "cell_type": "code",
   "execution_count": 39,
   "metadata": {},
   "outputs": [],
   "source": [
    "# using IN\n",
    "# IN(\" cat1 \",\" cat2\")\n",
    "\n",
    "IN=pd.read_sql_query('SELECT director_id,genre FROM directors_genres WHERE genre IN(\"comedy\",\"horror\") LIMIT 10',connection)"
   ]
  },
  {
   "cell_type": "code",
   "execution_count": 40,
   "metadata": {},
   "outputs": [
    {
     "name": "stdout",
     "output_type": "stream",
     "text": [
      "   director_id   genre\n",
      "0            8  Comedy\n",
      "1           10  Comedy\n",
      "2           12  Comedy\n",
      "3           18  Comedy\n",
      "4           22  Comedy\n",
      "5           23  Horror\n",
      "6           31  Comedy\n",
      "7           37  Comedy\n",
      "8           41  Comedy\n",
      "9           42  Comedy\n"
     ]
    }
   ],
   "source": [
    "print(IN)"
   ]
  },
  {
   "cell_type": "code",
   "execution_count": 41,
   "metadata": {},
   "outputs": [],
   "source": [
    "# Using LIKE\n",
    "# LIKE' %'    \n",
    "# % is a wild card character ===> it imply zero or more characters\n",
    "\n",
    "LIKE=pd.read_sql_query('SELECT name,year FROM movies WHERE name LIKE \"ja%\"',connection)"
   ]
  },
  {
   "cell_type": "code",
   "execution_count": 42,
   "metadata": {},
   "outputs": [
    {
     "name": "stdout",
     "output_type": "stream",
     "text": [
      "                             name  year\n",
      "0        Ja alla oli tulinen jrvi  1937\n",
      "1           Ja alussa oli puhe...  1993\n",
      "2        Ja byl sputnikom solntsa  1959\n",
      "3             Ja ga zovem sloboda  1963\n",
      "4                         Ja gore  1967\n",
      "...                           ...   ...\n",
      "1761                Jazztime Tale  1992\n",
      "1762                    Jazzwomen  2000\n",
      "1763           Jazzy Janitor, The  1920\n",
      "1764  Jazzyfatnastees: In Process  2002\n",
      "1765             Ja me maaten...!  2000\n",
      "\n",
      "[1766 rows x 2 columns]\n"
     ]
    }
   ],
   "source": [
    "print(LIKE)"
   ]
  },
  {
   "cell_type": "code",
   "execution_count": 43,
   "metadata": {},
   "outputs": [],
   "source": [
    "LIKE=pd.read_sql_query('SELECT name,year FROM movies WHERE name LIKE \"sa_n\"',connection)"
   ]
  },
  {
   "cell_type": "code",
   "execution_count": 44,
   "metadata": {},
   "outputs": [
    {
     "name": "stdout",
     "output_type": "stream",
     "text": [
      "   name  year\n",
      "0  Sain  1963\n",
      "1  Sarn  1968\n"
     ]
    }
   ],
   "source": [
    "print(LIKE)"
   ]
  },
  {
   "cell_type": "markdown",
   "metadata": {},
   "source": [
    "Note: % and _ are wild card characters \n",
    "     '_' used for single character only\n",
    "     '%' used for zero (or)multiple characters"
   ]
  },
  {
   "cell_type": "markdown",
   "metadata": {},
   "source": [
    "Exceptional cases: \n",
    "    \n",
    "    case1: if any column contalin percentage values like 96% 76% etc at that time % consider as wild card character\n",
    "            to overcome this we use '\\'(escape character)\n",
    "            Ex: SELECT * FROM table WHERE percentage='96\\%'\n",
    "                \n",
    "    case2: if any column contain names or text like n_guru@gmail.com in this case _ consider as wild card character to overcome\n",
    "                 this we use'\\'\n",
    "            Ex: SELECT * FROM table WHERE name=\"n\\_guru@gmail.com\""
   ]
  },
  {
   "cell_type": "markdown",
   "metadata": {},
   "source": [
    "## Aggregate functions : MIN,MAX,SUM,AVG,COUNT"
   ]
  },
  {
   "cell_type": "code",
   "execution_count": 45,
   "metadata": {},
   "outputs": [],
   "source": [
    "# MIN =====> it return the minmum of the column \n",
    "MIN=pd.read_sql_query('SELECT MIN(year) FROM movies',connection)\n"
   ]
  },
  {
   "cell_type": "code",
   "execution_count": 46,
   "metadata": {},
   "outputs": [
    {
     "name": "stdout",
     "output_type": "stream",
     "text": [
      "   MIN(year)\n",
      "0       1888\n"
     ]
    }
   ],
   "source": [
    "print(MIN)"
   ]
  },
  {
   "cell_type": "code",
   "execution_count": 47,
   "metadata": {},
   "outputs": [],
   "source": [
    "# MAX ==> it returns the maximumn of the column\n",
    "MAX=pd.read_sql_query('SELECT MAX(year) FROM movies',connection)"
   ]
  },
  {
   "cell_type": "code",
   "execution_count": 48,
   "metadata": {},
   "outputs": [
    {
     "name": "stdout",
     "output_type": "stream",
     "text": [
      "   MAX(year)\n",
      "0       2008\n"
     ]
    }
   ],
   "source": [
    "print(MAX)"
   ]
  },
  {
   "cell_type": "code",
   "execution_count": 49,
   "metadata": {},
   "outputs": [],
   "source": [
    "# AVG =====> it return the average of the column \n",
    "AVG=pd.read_sql_query('SELECT AVG(year) FROM movies',connection)"
   ]
  },
  {
   "cell_type": "code",
   "execution_count": 50,
   "metadata": {},
   "outputs": [
    {
     "name": "stdout",
     "output_type": "stream",
     "text": [
      "   AVG(year)\n",
      "0  1969.7883\n"
     ]
    }
   ],
   "source": [
    "print(AVG)"
   ]
  },
  {
   "cell_type": "code",
   "execution_count": 51,
   "metadata": {},
   "outputs": [],
   "source": [
    "# COUNT =====> it returns the number of rows in year column\n",
    "COUNT=pd.read_sql_query('SELECT COUNT(year) FROM movies',connection)"
   ]
  },
  {
   "cell_type": "code",
   "execution_count": 52,
   "metadata": {},
   "outputs": [
    {
     "name": "stdout",
     "output_type": "stream",
     "text": [
      "   COUNT(year)\n",
      "0       388269\n"
     ]
    }
   ],
   "source": [
    "print(COUNT)"
   ]
  },
  {
   "cell_type": "code",
   "execution_count": 53,
   "metadata": {},
   "outputs": [],
   "source": [
    "# COUNT ====>\n",
    "COUNT=pd.read_sql_query('SELECT COUNT(*) FROM movies WHERE year >2000',connection)"
   ]
  },
  {
   "cell_type": "code",
   "execution_count": 54,
   "metadata": {},
   "outputs": [
    {
     "name": "stdout",
     "output_type": "stream",
     "text": [
      "   COUNT(*)\n",
      "0     46006\n"
     ]
    }
   ],
   "source": [
    "print(COUNT)"
   ]
  },
  {
   "cell_type": "markdown",
   "metadata": {},
   "source": [
    "## GROUP BY"
   ]
  },
  {
   "cell_type": "code",
   "execution_count": 55,
   "metadata": {},
   "outputs": [],
   "source": [
    "# GROUP BY =======> it group the rows\n",
    "GROUP=pd.read_sql_query('SELECT year,COUNT(year) FROM movies GROUP BY year',connection)"
   ]
  },
  {
   "cell_type": "code",
   "execution_count": 56,
   "metadata": {},
   "outputs": [
    {
     "name": "stdout",
     "output_type": "stream",
     "text": [
      "     year  COUNT(year)\n",
      "0    2002        12056\n",
      "1    2000        11643\n",
      "2    1971         4072\n",
      "3    1913         3690\n",
      "4    1915         3722\n",
      "..    ...          ...\n",
      "115  2007            7\n",
      "116  1891            6\n",
      "117  2008            1\n",
      "118  1890            3\n",
      "119  1888            2\n",
      "\n",
      "[120 rows x 2 columns]\n"
     ]
    }
   ],
   "source": [
    "print(GROUP)"
   ]
  },
  {
   "cell_type": "code",
   "execution_count": 57,
   "metadata": {},
   "outputs": [],
   "source": [
    "# both GROUP BY and ORDER BY \n",
    "GROUP_ORDER= pd.read_sql_query('SELECT year,COUNT(year) FROM movies GROUP BY year ORDER BY year',connection)"
   ]
  },
  {
   "cell_type": "code",
   "execution_count": 58,
   "metadata": {},
   "outputs": [
    {
     "name": "stdout",
     "output_type": "stream",
     "text": [
      "     year  COUNT(year)\n",
      "0    1888            2\n",
      "1    1890            3\n",
      "2    1891            6\n",
      "3    1892            9\n",
      "4    1893            2\n",
      "..    ...          ...\n",
      "115  2004         8718\n",
      "116  2005         1449\n",
      "117  2006          195\n",
      "118  2007            7\n",
      "119  2008            1\n",
      "\n",
      "[120 rows x 2 columns]\n"
     ]
    }
   ],
   "source": [
    "print(GROUP_ORDER)"
   ]
  },
  {
   "cell_type": "code",
   "execution_count": 59,
   "metadata": {},
   "outputs": [],
   "source": [
    "# Creating new variable which is alias of column \n",
    "\n",
    "ALIAS= pd.read_sql_query('SELECT year,COUNT(year) year_count FROM movies GROUP BY year ORDER BY year_count',connection)"
   ]
  },
  {
   "cell_type": "code",
   "execution_count": 60,
   "metadata": {},
   "outputs": [
    {
     "name": "stdout",
     "output_type": "stream",
     "text": [
      "     year  year_count\n",
      "0    2008           1\n",
      "1    1893           2\n",
      "2    1888           2\n",
      "3    1890           3\n",
      "4    1891           6\n",
      "..    ...         ...\n",
      "115  1999       10976\n",
      "116  2000       11643\n",
      "117  2001       11690\n",
      "118  2003       11890\n",
      "119  2002       12056\n",
      "\n",
      "[120 rows x 2 columns]\n"
     ]
    }
   ],
   "source": [
    "print(ALIAS)"
   ]
  },
  {
   "cell_type": "markdown",
   "metadata": {},
   "source": [
    "Note : year_count is an alias , we are creating new variable which is eqaul to COUNT(year)"
   ]
  },
  {
   "cell_type": "markdown",
   "metadata": {},
   "source": [
    "Note : If grouping columns contains NULL values all NULL values are grouped together"
   ]
  },
  {
   "cell_type": "markdown",
   "metadata": {},
   "source": [
    "## HAVING"
   ]
  },
  {
   "cell_type": "code",
   "execution_count": 61,
   "metadata": {},
   "outputs": [],
   "source": [
    "HAVING= pd.read_sql_query(\"SELECT year,COUNT(year) year_count FROM movies GROUP BY year HAVING year_count>1000\",connection)"
   ]
  },
  {
   "cell_type": "code",
   "execution_count": 62,
   "metadata": {},
   "outputs": [
    {
     "name": "stdout",
     "output_type": "stream",
     "text": [
      "    year  year_count\n",
      "0   2002       12056\n",
      "1   2000       11643\n",
      "2   1971        4072\n",
      "3   1913        3690\n",
      "4   1915        3722\n",
      "..   ...         ...\n",
      "92  1945        1557\n",
      "93  1928        2051\n",
      "94  1936        2355\n",
      "95  1953        2549\n",
      "96  1926        2137\n",
      "\n",
      "[97 rows x 2 columns]\n"
     ]
    }
   ],
   "source": [
    "print(HAVING)"
   ]
  },
  {
   "cell_type": "markdown",
   "metadata": {},
   "source": [
    "NOTE : exuction 1 group by 2 aggeregate 3 having \n",
    "    "
   ]
  },
  {
   "cell_type": "code",
   "execution_count": 63,
   "metadata": {},
   "outputs": [],
   "source": [
    "HAVING1= pd.read_sql_query(\"SELECT name,year FROM movies HAVING year>2000\",connection)"
   ]
  },
  {
   "cell_type": "code",
   "execution_count": 64,
   "metadata": {},
   "outputs": [
    {
     "name": "stdout",
     "output_type": "stream",
     "text": [
      "                        name  year\n",
      "0                        #28  2002\n",
      "1      $100,000 Pyramid, The  2001\n",
      "2             $300 y tickets  2002\n",
      "3                  $5.15/Hr.  2004\n",
      "4                    $windle  2002\n",
      "...                      ...   ...\n",
      "46001         \" i havet, En\"  2003\n",
      "46002           \"ppna dagar\"  2003\n",
      "46003                 \"rnen\"  2004\n",
      "46004           \"pa el nimo\"  2002\n",
      "46005           \"zgnm Leyla\"  2002\n",
      "\n",
      "[46006 rows x 2 columns]\n"
     ]
    }
   ],
   "source": [
    "print(HAVING1)"
   ]
  },
  {
   "cell_type": "code",
   "execution_count": 65,
   "metadata": {},
   "outputs": [],
   "source": [
    "HAVING2= pd.read_sql_query(\"SELECT name,year FROM movies WHERE year>2000\",connection)"
   ]
  },
  {
   "cell_type": "code",
   "execution_count": 66,
   "metadata": {},
   "outputs": [
    {
     "name": "stdout",
     "output_type": "stream",
     "text": [
      "                        name  year\n",
      "0                        #28  2002\n",
      "1      $100,000 Pyramid, The  2001\n",
      "2             $300 y tickets  2002\n",
      "3                  $5.15/Hr.  2004\n",
      "4                    $windle  2002\n",
      "...                      ...   ...\n",
      "46001         \" i havet, En\"  2003\n",
      "46002           \"ppna dagar\"  2003\n",
      "46003                 \"rnen\"  2004\n",
      "46004           \"pa el nimo\"  2002\n",
      "46005           \"zgnm Leyla\"  2002\n",
      "\n",
      "[46006 rows x 2 columns]\n"
     ]
    }
   ],
   "source": [
    "print(HAVING2)"
   ]
  },
  {
   "cell_type": "markdown",
   "metadata": {},
   "source": [
    "NOTE : In the both cases without group by gives the same result"
   ]
  },
  {
   "cell_type": "markdown",
   "metadata": {},
   "source": [
    "NOTE : HAVING with GROUP BY same as WHERE"
   ]
  },
  {
   "cell_type": "markdown",
   "metadata": {},
   "source": [
    "Thumb of rule: When we have group by we use HAVING when we don't have  group by we better to use WHERE "
   ]
  },
  {
   "cell_type": "code",
   "execution_count": 67,
   "metadata": {},
   "outputs": [],
   "source": [
    "HAVING_=pd.read_sql_query(\"SELECT year,COUNT(year) year_count FROM movies WHERE rankscore >9 GROUP BY year HAVING year_count>20\",connection)"
   ]
  },
  {
   "cell_type": "code",
   "execution_count": 68,
   "metadata": {},
   "outputs": [
    {
     "name": "stdout",
     "output_type": "stream",
     "text": [
      "   year  year_count\n",
      "0  1996          34\n",
      "1  2003          87\n",
      "2  2004          48\n",
      "3  2002          77\n",
      "4  2000          45\n",
      "5  1999          33\n",
      "6  1982          24\n",
      "7  2001          38\n",
      "8  1997          23\n",
      "9  1998          21\n"
     ]
    }
   ],
   "source": [
    "print(HAVING_)"
   ]
  },
  {
   "cell_type": "markdown",
   "metadata": {},
   "source": [
    "Note : above excution 1 WHERE 2 GROUP BY 3 AGGREGATION 4 HAVING\n",
    "\n"
   ]
  },
  {
   "cell_type": "markdown",
   "metadata": {},
   "source": [
    "Note1: WHERE is applied on individual rows while HAVING is applied on groups "
   ]
  },
  {
   "cell_type": "markdown",
   "metadata": {},
   "source": [
    "Note2: HAVING is applied after grouping while WHERE is used before grouping "
   ]
  },
  {
   "cell_type": "markdown",
   "metadata": {},
   "source": [
    "## JOIN's : Natural join,Inner join, left join,right join,outer join"
   ]
  },
  {
   "cell_type": "code",
   "execution_count": 69,
   "metadata": {},
   "outputs": [],
   "source": [
    "# INNER JOIN\n",
    "\n",
    "Inner=pd.read_sql_query('SELECT m.name,g.genre from movies m JOIN movies_genres g ON m.ID=g.movie_ID LIMIT 20',connection)"
   ]
  },
  {
   "cell_type": "code",
   "execution_count": 70,
   "metadata": {},
   "outputs": [
    {
     "name": "stdout",
     "output_type": "stream",
     "text": [
      "                                   name        genre\n",
      "0   #7 Train: An Immigrant Journey, The  Documentary\n",
      "1   #7 Train: An Immigrant Journey, The        Short\n",
      "2                                     $       Comedy\n",
      "3                                     $        Crime\n",
      "4                         $1,000 Reward      Western\n",
      "5                       $1,000,000 Duck       Comedy\n",
      "6                       $1,000,000 Duck       Family\n",
      "7                $10,000 Under a Pillow    Animation\n",
      "8                $10,000 Under a Pillow       Comedy\n",
      "9                $10,000 Under a Pillow        Short\n",
      "10                             $100,000        Drama\n",
      "11                $100,000 Pyramid, The       Family\n",
      "12                    $1000 a Touchdown       Comedy\n",
      "13                   $20,000 Carat, The        Crime\n",
      "14                   $20,000 Carat, The        Drama\n",
      "15                   $20,000 Carat, The        Short\n",
      "16               $21 a Day Once a Month    Animation\n",
      "17               $21 a Day Once a Month        Short\n",
      "18                     $2500 Bride, The        Drama\n",
      "19                     $2500 Bride, The      Romance\n"
     ]
    }
   ],
   "source": [
    "print(Inner)"
   ]
  },
  {
   "cell_type": "code",
   "execution_count": 71,
   "metadata": {},
   "outputs": [],
   "source": [
    "# NATURAL JOIN  ====> join where we have the same column names\n",
    "\n",
    "NATURAL = pd.read_sql_query('SELECT * FROM movies JOIN movies_genres LIMIT 10',connection)"
   ]
  },
  {
   "cell_type": "code",
   "execution_count": 72,
   "metadata": {},
   "outputs": [
    {
     "name": "stdout",
     "output_type": "stream",
     "text": [
      "   id name  year rankscore  movie_id        genre\n",
      "0   0  #28  2002      None         1  Documentary\n",
      "1   0  #28  2002      None         1        Short\n",
      "2   0  #28  2002      None         2       Comedy\n",
      "3   0  #28  2002      None         2        Crime\n",
      "4   0  #28  2002      None         5      Western\n",
      "5   0  #28  2002      None         6       Comedy\n",
      "6   0  #28  2002      None         6       Family\n",
      "7   0  #28  2002      None         8    Animation\n",
      "8   0  #28  2002      None         8       Comedy\n",
      "9   0  #28  2002      None         8        Short\n"
     ]
    }
   ],
   "source": [
    "print(NATURAL)"
   ]
  },
  {
   "cell_type": "code",
   "execution_count": 73,
   "metadata": {},
   "outputs": [],
   "source": [
    "# LEFT OUTER JOIN  ====> prefer LEFT table\n",
    "\n",
    "LEFT= pd.read_sql_query('SELECT * FROM movies m LEFT OUTER JOIN movies_genres g on m.ID=g.movie_ID LIMIT 10',connection)"
   ]
  },
  {
   "cell_type": "code",
   "execution_count": 74,
   "metadata": {},
   "outputs": [
    {
     "name": "stdout",
     "output_type": "stream",
     "text": [
      "   id                                 name  year  rankscore  movie_id  \\\n",
      "0   0                                  #28  2002        NaN       NaN   \n",
      "1   1  #7 Train: An Immigrant Journey, The  2000        NaN       1.0   \n",
      "2   1  #7 Train: An Immigrant Journey, The  2000        NaN       1.0   \n",
      "3   2                                    $  1971        6.4       2.0   \n",
      "4   2                                    $  1971        6.4       2.0   \n",
      "5   3                        $1,000 Reward  1913        NaN       NaN   \n",
      "6   4                        $1,000 Reward  1915        NaN       NaN   \n",
      "7   5                        $1,000 Reward  1923        NaN       5.0   \n",
      "8   6                      $1,000,000 Duck  1971        5.0       6.0   \n",
      "9   6                      $1,000,000 Duck  1971        5.0       6.0   \n",
      "\n",
      "         genre  \n",
      "0         None  \n",
      "1  Documentary  \n",
      "2        Short  \n",
      "3       Comedy  \n",
      "4        Crime  \n",
      "5         None  \n",
      "6         None  \n",
      "7      Western  \n",
      "8       Comedy  \n",
      "9       Family  \n"
     ]
    }
   ],
   "source": [
    "print(LEFT)"
   ]
  },
  {
   "cell_type": "code",
   "execution_count": 75,
   "metadata": {},
   "outputs": [],
   "source": [
    "# RIGHT OUTER JOIN ====> prefer RIGHT table\n",
    "\n",
    "RIGHT=pd.read_sql_query('SELECT * FROM movies m RIGHT OUTER JOIN movies_genres g ON m.ID=g.movie_ID LIMIT 10',connection)"
   ]
  },
  {
   "cell_type": "code",
   "execution_count": 76,
   "metadata": {},
   "outputs": [
    {
     "name": "stdout",
     "output_type": "stream",
     "text": [
      "   id                                 name  year  rankscore  movie_id  \\\n",
      "0   1  #7 Train: An Immigrant Journey, The  2000        NaN         1   \n",
      "1   1  #7 Train: An Immigrant Journey, The  2000        NaN         1   \n",
      "2   2                                    $  1971        6.4         2   \n",
      "3   2                                    $  1971        6.4         2   \n",
      "4   5                        $1,000 Reward  1923        NaN         5   \n",
      "5   6                      $1,000,000 Duck  1971        5.0         6   \n",
      "6   6                      $1,000,000 Duck  1971        5.0         6   \n",
      "7   8               $10,000 Under a Pillow  1921        NaN         8   \n",
      "8   8               $10,000 Under a Pillow  1921        NaN         8   \n",
      "9   8               $10,000 Under a Pillow  1921        NaN         8   \n",
      "\n",
      "         genre  \n",
      "0  Documentary  \n",
      "1        Short  \n",
      "2       Comedy  \n",
      "3        Crime  \n",
      "4      Western  \n",
      "5       Comedy  \n",
      "6       Family  \n",
      "7    Animation  \n",
      "8       Comedy  \n",
      "9        Short  \n"
     ]
    }
   ],
   "source": [
    "print(RIGHT)"
   ]
  },
  {
   "cell_type": "code",
   "execution_count": 77,
   "metadata": {},
   "outputs": [],
   "source": [
    "# Three way join  ======> three tables joining\n",
    "\n",
    "Three= pd.read_sql_query('SELECT a.first_name,a.last_name FROM actors a JOIN roles r ON a.ID=r.actor_ID JOIN movies m ON m.ID=r.movie_ID AND m.name LIMIT 10',connection)"
   ]
  },
  {
   "cell_type": "code",
   "execution_count": 78,
   "metadata": {},
   "outputs": [
    {
     "name": "stdout",
     "output_type": "stream",
     "text": [
      "  first_name last_name\n",
      "0     Oswald       'Ô'\n",
      "1     Oswald       'Ô'\n",
      "2     Oswald       'Ô'\n",
      "3     Oswald       'Ô'\n",
      "4     Oswald       'Ô'\n",
      "5       Mode         2\n",
      "6      André      3000\n",
      "7      André      3000\n",
      "8      André      3000\n",
      "9      André      3000\n"
     ]
    }
   ],
   "source": [
    "print(Three)"
   ]
  },
  {
   "cell_type": "markdown",
   "metadata": {},
   "source": [
    "Interpretation : T1 inner join T2 =====> T result \n",
    "                 T inner join T3  =====> T* result\n",
    "                first_name and last_name form T*"
   ]
  },
  {
   "cell_type": "markdown",
   "metadata": {},
   "source": [
    "## SUBQUERIES/NESTED QUERIES/INNER QUERIES"
   ]
  },
  {
   "cell_type": "code",
   "execution_count": 79,
   "metadata": {},
   "outputs": [],
   "source": [
    "# Above three way join can be done with sub queries \n",
    "\n",
    "SUB_QUERIE= pd.read_sql_query('SELECT * FROM movies WHERE rankscore >= ALL(SELECT MAX(rankscore) FROM movies)',connection)"
   ]
  },
  {
   "cell_type": "code",
   "execution_count": 80,
   "metadata": {},
   "outputs": [
    {
     "name": "stdout",
     "output_type": "stream",
     "text": [
      "        id                                     name  year  rankscore\n",
      "0    23608  Atunci i-am condamnat pe toti la moarte  1971        9.9\n",
      "1    41537                                 Blow Job  2002        9.9\n",
      "2    65522                            Clearing, The  2001        9.9\n",
      "3    68770                    Complex Sessions, The  1994        9.9\n",
      "4    79678                       Dawn of the Friend  2004        9.9\n",
      "5    84983                      Devil's Circus, The  1926        9.9\n",
      "6    87894                        Distinto amanecer  1943        9.9\n",
      "7    91477                                    Dosti  1964        9.9\n",
      "8    94558                                Duck Soup  1942        9.9\n",
      "9    95123                        Duminica la ora 6  1965        9.9\n",
      "10  125616               Genet parle d'Angela Davis  1970        9.9\n",
      "11  131247                           Gong fu qi jie  1979        9.9\n",
      "12  145429                                   Himala  1982        9.9\n",
      "13  153301                                   Huttyn  1996        9.9\n",
      "14  163898                         Ivan Groznyj III  1988        9.9\n",
      "15  171541                                Jnos vitz  1973        9.9\n",
      "16  205227           Marche des femmes  Hendaye, La  1975        9.9\n",
      "17  227596                        Napolon Bonaparte  1934        9.9\n",
      "18  230568                           New Clear Farm  1998        9.9\n",
      "19  230864                           New World, The  1982        9.9\n",
      "20  246768                         Pair of Boots, A  1962        9.9\n",
      "21  264084                         Prince Solitaire  2003        9.9\n",
      "22  266013          Prostitues de Lyon parlent, Les  1975        9.9\n",
      "23  288249                                   Sargam  1995        9.9\n",
      "24  289646                                 Scarmour  1997        9.9\n",
      "25  289842                         Schalkse ruiters  1997        9.9\n",
      "26  305294                            Slyozy kapali  1982        9.9\n",
      "27  313896                        Star povesti cesk  1953        9.9\n",
      "28  320483                                   Svadba  1944        9.9\n",
      "29  320710                      Svoga tela gospodar  1957        9.9\n",
      "30  334747                         Together & Alone  1998        9.9\n",
      "31  343965              Ubijtsi vykhodyat na dorogu  1942        9.9\n",
      "32  347078                 Unicorn in the Garden, A  1953        9.9\n",
      "33  351405                           Velnio nuotaka  1973        9.9\n",
      "34  357173                   Voynata na taralezhite  1979        9.9\n",
      "35  363633                           Whirlpool, The  2003        9.9\n",
      "36  368865                   Wrestling with Shadows  2000        9.9\n",
      "37  372074                            You Are Not I  1981        9.9\n",
      "38  372443                     Young and Restless 2  1985        9.9\n",
      "39  374517                                   Zenith  2001        9.9\n"
     ]
    }
   ],
   "source": [
    "print(SUB_QUERIE)"
   ]
  },
  {
   "cell_type": "markdown",
   "metadata": {},
   "source": [
    "# DML : DATA MANUPULATION LANGUAGE"
   ]
  },
  {
   "cell_type": "markdown",
   "metadata": {},
   "source": [
    "IN DML we can inesrt,update,delete the tables\n",
    "\n",
    "INSERTING: Adding extra rows to the existing table\n",
    "\n",
    " EX:INSERT=pd.read_sql_query('INSERT INTO movies(ID,name,year,rankscore) VALUES(412321,\"Thor\",2011,7)',connection)\n",
    " \n",
    "UPDATE:To update something exist in table \n",
    "\n",
    "EX: UPDATE movies SET rankscore=9 WHERE ID= 412321\n",
    "\n",
    "DELETING: To delete entire row \n",
    "\n",
    "EX: DELETE FROM movies WHERE ID=412321\n",
    "\n",
    " "
   ]
  },
  {
   "cell_type": "markdown",
   "metadata": {},
   "source": [
    "# DDL: DATA DEFINITION LANGUAGE"
   ]
  },
  {
   "cell_type": "markdown",
   "metadata": {},
   "source": [
    "IN DDL we can create a table,add,modify,drop the table\n",
    "\n",
    "Creating tabel \n",
    "\n",
    "EX: CREATE TABLE Language(ID INT PRIMARY,lang VARCHAR(50) NOT NULL)\n",
    "               constraints : NOTNULL,UNIQUE,PRIMARY KEY,FOREIGN KEY,CHECK,DEFAULT,INDEX\n",
    "\n",
    "ALTER: ADD,MODIFY,DROP\n",
    "    \n",
    "ADD: adding column to the existing table \n",
    "    \n",
    "    EX: ALTER TABLE language ADD country VARCHAR(50);\n",
    "        \n",
    "MODIFY: To modify the length of column \n",
    "    \n",
    "    EX: ALTER TABLE language MODIFY country VARCHAR(60);\n",
    "        \n",
    "DROP: TO drop column from the table \n",
    "    \n",
    "    EX: ALTER TABLE language DROP country;\n",
    "    \n",
    "NOTE: DROP TABLE: it removes the both table and it's data \n",
    "      TRUNCATE TABLE: it removes the data in the table only it doesn't remove the table"
   ]
  },
  {
   "cell_type": "markdown",
   "metadata": {},
   "source": [
    "## DATA CONTROL LANGUAGE :GRANT,REVOKE"
   ]
  },
  {
   "cell_type": "markdown",
   "metadata": {},
   "source": [
    "DCL tells about whose has control of data \n",
    "\n",
    "GRANT:Allow specified users to perform specified tasks \n",
    "REVOKE: Cancel previously granted (or) denied permission"
   ]
  },
  {
   "cell_type": "code",
   "execution_count": null,
   "metadata": {},
   "outputs": [],
   "source": []
  }
 ],
 "metadata": {
  "kernelspec": {
   "display_name": "Python 3",
   "language": "python",
   "name": "python3"
  },
  "language_info": {
   "codemirror_mode": {
    "name": "ipython",
    "version": 3
   },
   "file_extension": ".py",
   "mimetype": "text/x-python",
   "name": "python",
   "nbconvert_exporter": "python",
   "pygments_lexer": "ipython3",
   "version": "3.6.10"
  }
 },
 "nbformat": 4,
 "nbformat_minor": 4
}
